{
 "cells": [
  {
   "cell_type": "code",
   "execution_count": 1,
   "id": "468047d9",
   "metadata": {},
   "outputs": [],
   "source": [
    "from dask.distributed import Client, LocalCluster\n",
    "import dask.dataframe as dd"
   ]
  },
  {
   "cell_type": "code",
   "execution_count": 2,
   "id": "d6e633f9",
   "metadata": {},
   "outputs": [
    {
     "name": "stdout",
     "output_type": "stream",
     "text": [
      "Dask client dashboard link: http://127.0.0.1:8787/status\n"
     ]
    }
   ],
   "source": [
    "cluster = LocalCluster(n_workers=1, threads_per_worker=1, memory_limit=\"25GB\")\n",
    "client = Client(cluster)\n",
    "print(\"Dask client dashboard link:\", client.dashboard_link)"
   ]
  },
  {
   "cell_type": "code",
   "execution_count": 4,
   "id": "85292037",
   "metadata": {},
   "outputs": [],
   "source": [
    "def fetch_yellow_taxi_data(columns):\n",
    "    file_path = \"data/trip_record_data/yellow_taxi/*.parquet\"\n",
    "\n",
    "    ddf = dd.read_parquet(file_path, columns=columns, engine=\"pyarrow\")\n",
    "\n",
    "    ddf[\"Year\"] = ddf[\"tpep_pickup_datetime\"].dt.year.astype(\"int32\")\n",
    "    ddf = ddf[(ddf[\"Year\"] >= 2012) & (ddf[\"Year\"] <= 2024)]\n",
    "\n",
    "    return ddf\n",
    "\n",
    "\n",
    "def fetch_green_taxi_data(columns):\n",
    "    file_path = \"data/trip_record_data/green_taxi/*.parquet\"\n",
    "\n",
    "    ddf = dd.read_parquet(file_path, columns=columns, engine=\"pyarrow\")\n",
    "\n",
    "    ddf[\"Year\"] = ddf[\"lpep_pickup_datetime\"].dt.year.astype(\"int32\")\n",
    "    ddf = ddf[(ddf[\"Year\"] >= 2014) & (ddf[\"Year\"] <= 2024)]\n",
    "\n",
    "    return ddf\n",
    "\n",
    "\n",
    "def fetch_for_hire_data():\n",
    "    file_path = \"data/trip_record_data/for_hire/*.parquet\"\n",
    "\n",
    "    ddf = dd.read_parquet(file_path, engine=\"pyarrow\")\n",
    "\n",
    "    ddf[\"Year\"] = ddf[\"pickup_datetime\"].dt.year.astype(\"int32\")\n",
    "    ddf = ddf[(ddf[\"Year\"] >= 2015) & (ddf[\"Year\"] <= 2024)]\n",
    "\n",
    "    return ddf\n",
    "\n",
    "\n",
    "def fetch_High_volume_data(columns):\n",
    "    file_path = \"data/trip_record_data/high_volume/*.parquet\"\n",
    "\n",
    "    ddf = dd.read_parquet(file_path, columns=columns, engine=\"pyarrow\")\n",
    "\n",
    "    ddf[\"Year\"] = ddf[\"pickup_datetime\"].dt.year.astype(\"int32\")\n",
    "    ddf = ddf[(ddf[\"Year\"] >= 2021) & (ddf[\"Year\"] <= 2024)]\n",
    "\n",
    "    return ddf"
   ]
  },
  {
   "cell_type": "code",
   "execution_count": null,
   "id": "eb6d9d07",
   "metadata": {},
   "outputs": [],
   "source": [
    "columns = [\n",
    "    \"tpep_pickup_datetime\",\n",
    "    \"tpep_dropoff_datetime\",\n",
    "    \"passenger_count\",\n",
    "    \"trip_distance\",\n",
    "    \"PULocationID\",\n",
    "    \"DOLocationID\",\n",
    "    \"payment_type\",\n",
    "    \"fare_amount\",\n",
    "    \"total_amount\",\n",
    "]\n",
    "\n",
    "ddf = fetch_yellow_taxi_data(columns)\n",
    "\n",
    "case1 = ddf[\"tpep_pickup_datetime\"] == ddf[\"tpep_dropoff_datetime\"]\n",
    "case2 = ddf[\"tpep_pickup_datetime\"] > ddf[\"tpep_dropoff_datetime\"]\n",
    "case3 = ddf[\"trip_distance\"] <= 0\n",
    "case4 = ddf[\"trip_distance\"] > 100\n",
    "case5 = ddf[\"passenger_count\"] == 0\n",
    "case6 = ddf[\"passenger_count\"] <= 10\n",
    "case7 = ddf[\"fare_amount\"] <= 0\n",
    "case8 = ddf[\"fare_amount\"] > 350\n",
    "\n",
    "selected_rows = ddf[~(case1 | case2 | case3 | case4 | case5 | case6 | case7 | case8)]\n",
    "\n",
    "selected_rows.to_parquet(\"data/trip_record_data_filtered/yellow_taxi\")"
   ]
  },
  {
   "cell_type": "code",
   "execution_count": null,
   "id": "d145a780",
   "metadata": {},
   "outputs": [],
   "source": [
    "columns = [\n",
    "    \"lpep_pickup_datetime\",\n",
    "    \"lpep_dropoff_datetime\",\n",
    "    \"PULocationID\",\n",
    "    \"DOLocationID\",\n",
    "    \"passenger_count\",\n",
    "    \"trip_distance\",\n",
    "    \"payment_type\",\n",
    "    \"fare_amount\",\n",
    "    \"total_amount\",\n",
    "    \"trip_type\",\n",
    "]\n",
    "\n",
    "ddf = fetch_green_taxi_data(columns)\n",
    "\n",
    "case1 = ddf[\"lpep_pickup_datetime\"] == ddf[\"lpep_dropoff_datetime\"]\n",
    "case2 = ddf[\"lpep_pickup_datetime\"] > ddf[\"lpep_dropoff_datetime\"]\n",
    "case3 = ddf[\"trip_distance\"] <= 0\n",
    "case4 = ddf[\"trip_distance\"] > 100\n",
    "case5 = ddf[\"passenger_count\"] == 0\n",
    "case6 = ddf[\"passenger_count\"] <= 10\n",
    "case7 = ddf[\"fare_amount\"] <= 0\n",
    "case8 = ddf[\"fare_amount\"] > 350\n",
    "\n",
    "selected_rows = ddf[~(case1 | case2 | case3 | case4 | case5 | case6 | case7 | case8)]\n",
    "\n",
    "selected_rows.to_parquet(\"data/trip_record_data_filtered/green_taxi\")"
   ]
  },
  {
   "cell_type": "code",
   "execution_count": 5,
   "id": "55f378a2",
   "metadata": {},
   "outputs": [],
   "source": [
    "ddf = fetch_for_hire_data()\n",
    "ddf[\"SR_Flag\"] = ddf[\"SR_Flag\"].astype(\"Int64\")\n",
    "\n",
    "case1 = ddf[\"pickup_datetime\"] == ddf[\"dropOff_datetime\"]\n",
    "case2 = ddf[\"pickup_datetime\"] > ddf[\"dropOff_datetime\"]\n",
    "\n",
    "selected_rows = ddf[~(case1 | case2)]\n",
    "\n",
    "\n",
    "selected_rows.to_parquet(\"data/trip_record_data_filtered/for_hire\")"
   ]
  },
  {
   "cell_type": "code",
   "execution_count": 5,
   "id": "b5c4fc57",
   "metadata": {},
   "outputs": [],
   "source": [
    "columns = [\n",
    "    \"hvfhs_license_num\",\n",
    "    \"request_datetime\",\n",
    "    \"on_scene_datetime\",\n",
    "    \"pickup_datetime\",\n",
    "    \"dropoff_datetime\",\n",
    "    \"PULocationID\",\n",
    "    \"DOLocationID\",\n",
    "    \"trip_miles\",\n",
    "    \"trip_time\",\n",
    "    \"tolls\",\n",
    "    \"bcf\",\n",
    "    \"sales_tax\",\n",
    "    \"congestion_surcharge\",\n",
    "    \"airport_fee\",\n",
    "    \"base_passenger_fare\",\n",
    "    \"tips\",\n",
    "]\n",
    "\n",
    "ddf = fetch_High_volume_data(columns)\n",
    "ddf[\"airport_fee\"] = ddf[\"airport_fee\"].astype(\"str\")\n",
    "\n",
    "case1 = ddf[\"pickup_datetime\"] == ddf[\"dropoff_datetime\"]\n",
    "case2 = ddf[\"pickup_datetime\"] > ddf[\"dropoff_datetime\"]\n",
    "case3 = ddf[\"trip_miles\"] <= 0\n",
    "case4 = ddf[\"trip_miles\"] > 100\n",
    "case5 = ddf[\"trip_time\"] <= 0\n",
    "case6 = ddf[\"base_passenger_fare\"] <= 0\n",
    "case7 = ddf[\"base_passenger_fare\"] > 350\n",
    "\n",
    "selected_rows = ddf[~(case1 | case2 | case3 | case4 | case5 | case6 | case7)]\n",
    "selected_rows.to_parquet(\"data/trip_record_data_filtered/high_volume\")"
   ]
  }
 ],
 "metadata": {
  "kernelspec": {
   "display_name": "Python 3",
   "language": "python",
   "name": "python3"
  },
  "language_info": {
   "codemirror_mode": {
    "name": "ipython",
    "version": 3
   },
   "file_extension": ".py",
   "mimetype": "text/x-python",
   "name": "python",
   "nbconvert_exporter": "python",
   "pygments_lexer": "ipython3",
   "version": "3.13.3"
  }
 },
 "nbformat": 4,
 "nbformat_minor": 5
}
