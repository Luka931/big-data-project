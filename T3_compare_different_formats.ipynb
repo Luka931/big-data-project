{
 "cells": [
  {
   "cell_type": "code",
   "execution_count": 41,
   "id": "f6d90877",
   "metadata": {},
   "outputs": [],
   "source": [
    "import pandas as pd\n",
    "import glob, os\n",
    "import duckdb, time"
   ]
  },
  {
   "cell_type": "code",
   "execution_count": 7,
   "id": "b3d77ccf",
   "metadata": {},
   "outputs": [],
   "source": [
    "SAVE_PATH = \"data/different_formats_t3\""
   ]
  },
  {
   "cell_type": "code",
   "execution_count": 4,
   "id": "6c3d6699",
   "metadata": {},
   "outputs": [],
   "source": [
    "parquet_files = glob.glob(\"data/trip_record_partitioned/green-taxi/year=2024/*.parquet\")"
   ]
  },
  {
   "cell_type": "code",
   "execution_count": 6,
   "id": "36e359bb",
   "metadata": {},
   "outputs": [],
   "source": [
    "df = pd.read_parquet(parquet_files)"
   ]
  },
  {
   "cell_type": "code",
   "execution_count": 17,
   "id": "fee1e767",
   "metadata": {},
   "outputs": [],
   "source": [
    "df.to_csv(os.path.join(SAVE_PATH, \"original.csv\"))\n",
    "df.to_csv(os.path.join(SAVE_PATH, \"gzipped.csv\"), compression=\"gzip\")\n",
    "df.to_hdf(os.path.join(SAVE_PATH, \"data.h5\"), key=\"df\", format=\"t\")\n",
    "con = duckdb.connect(database=os.path.join(SAVE_PATH, \"data.duckdb\"))\n",
    "con.sql(\"create table data as select * from df\")"
   ]
  },
  {
   "cell_type": "code",
   "execution_count": 30,
   "id": "baed1fc5",
   "metadata": {},
   "outputs": [
    {
     "name": "stdout",
     "output_type": "stream",
     "text": [
      "data.h5         : 59432981\n",
      "original.csv    : 58999309\n",
      "data.duckdb     : 13643776\n",
      "gzipped.csv     : 12140122\n"
     ]
    }
   ],
   "source": [
    "file_information = {}\n",
    "\n",
    "for file_name in os.listdir(SAVE_PATH):\n",
    "    path = os.path.join(SAVE_PATH, file_name)\n",
    "    if os.path.isfile(path):\n",
    "        file_size = os.path.getsize(path)\n",
    "        file_information[file_name] = file_size\n",
    "\n",
    "\n",
    "for file_name, file_size in sorted(file_information.items(), key=lambda item: -item[1]):\n",
    "    print(f\"{file_name.ljust(15)} : {file_size}\")"
   ]
  },
  {
   "cell_type": "code",
   "execution_count": 37,
   "id": "da217a42",
   "metadata": {},
   "outputs": [],
   "source": [
    "def time_function(func):\n",
    "    start = time.time()\n",
    "    func()\n",
    "    end = time.time()\n",
    "    return end - start\n",
    "\n",
    "\n",
    "def read_csv_original():\n",
    "    df = pd.read_csv(os.path.join(SAVE_PATH, \"original.csv\"))\n",
    "\n",
    "\n",
    "def read_csv_compressed():\n",
    "    df = pd.read_csv(os.path.join(SAVE_PATH, \"gzipped.csv\"), compression=\"gzip\")\n",
    "\n",
    "\n",
    "def read_hdf():\n",
    "    df = pd.read_hdf(os.path.join(SAVE_PATH, \"data.h5\"))\n",
    "\n",
    "\n",
    "def read_duckdb():\n",
    "    con = duckdb.connect(database=os.path.join(SAVE_PATH, \"data.duckdb\"))\n",
    "    df = con.sql(\"select * from data\").df()"
   ]
  },
  {
   "cell_type": "code",
   "execution_count": 49,
   "id": "7de4e4ba",
   "metadata": {},
   "outputs": [
    {
     "name": "stdout",
     "output_type": "stream",
     "text": [
      "original.csv    : 2.0467405319213867\n",
      "gzipped.csv     : 1.9688646793365479\n",
      "data.h5         : 0.0970005989074707\n",
      "data.duckdb     : 0.06825733184814453\n"
     ]
    }
   ],
   "source": [
    "read_functions = {\n",
    "    \"original.csv\": read_csv_original,\n",
    "    \"gzipped.csv\": read_csv_compressed,\n",
    "    \"data.h5\": read_hdf,\n",
    "    \"data.duckdb\": read_duckdb,\n",
    "}\n",
    "\n",
    "results = {}\n",
    "\n",
    "for file_name, func in read_functions.items():\n",
    "    results[file_name] = time_function(func)\n",
    "\n",
    "\n",
    "for file_name, seconds in sorted(results.items(), key=lambda item: -item[1]):\n",
    "    print(f\"{file_name.ljust(15)} : {seconds}\")"
   ]
  }
 ],
 "metadata": {
  "kernelspec": {
   "display_name": "Python 3",
   "language": "python",
   "name": "python3"
  },
  "language_info": {
   "codemirror_mode": {
    "name": "ipython",
    "version": 3
   },
   "file_extension": ".py",
   "mimetype": "text/x-python",
   "name": "python",
   "nbconvert_exporter": "python",
   "pygments_lexer": "ipython3",
   "version": "3.13.3"
  }
 },
 "nbformat": 4,
 "nbformat_minor": 5
}
