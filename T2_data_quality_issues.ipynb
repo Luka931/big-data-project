{
 "cells": [
  {
   "cell_type": "code",
   "execution_count": 1,
   "id": "629668fa",
   "metadata": {},
   "outputs": [],
   "source": [
    "from dask.distributed import Client, LocalCluster\n",
    "import dask.dataframe as dd\n",
    "import os\n",
    "import pandas as pd \n",
    "import matplotlib.pyplot as plt"
   ]
  },
  {
   "cell_type": "code",
   "execution_count": null,
   "id": "c706048e",
   "metadata": {},
   "outputs": [
    {
     "name": "stderr",
     "output_type": "stream",
     "text": [
      "/home/lukap/.local/lib/python3.13/site-packages/distributed/node.py:187: UserWarning: Port 8787 is already in use.\n",
      "Perhaps you already have a cluster running?\n",
      "Hosting the HTTP server on port 42847 instead\n",
      "  warnings.warn(\n"
     ]
    },
    {
     "name": "stdout",
     "output_type": "stream",
     "text": [
      "Dask client dashboard link: http://127.0.0.1:42847/status\n"
     ]
    },
    {
     "name": "stderr",
     "output_type": "stream",
     "text": [
      "2025-05-24 11:58:22,026 - distributed.shuffle._scheduler_plugin - WARNING - Shuffle 222986821f14db2350590f742cbdaeb5 initialized by task ('shuffle-transfer-222986821f14db2350590f742cbdaeb5', 37) executed on worker tcp://127.0.0.1:33931\n",
      "2025-05-24 11:59:11,861 - distributed.shuffle._scheduler_plugin - WARNING - Shuffle 222986821f14db2350590f742cbdaeb5 deactivated due to stimulus 'task-finished-1748080751.8607275'\n",
      "2025-05-24 11:59:37,228 - distributed.shuffle._scheduler_plugin - WARNING - Shuffle 1576da989a24f6fb3e1725aaa921765b initialized by task ('shuffle-transfer-1576da989a24f6fb3e1725aaa921765b', 30) executed on worker tcp://127.0.0.1:33931\n",
      "2025-05-24 11:59:40,580 - distributed.shuffle._scheduler_plugin - WARNING - Shuffle 1576da989a24f6fb3e1725aaa921765b deactivated due to stimulus 'task-finished-1748080780.5796406'\n",
      "2025-05-24 11:59:43,723 - distributed.shuffle._scheduler_plugin - WARNING - Shuffle 9620a5c4da3a046b5a76fd40f808c649 initialized by task ('shuffle-transfer-9620a5c4da3a046b5a76fd40f808c649', 1) executed on worker tcp://127.0.0.1:35549\n",
      "2025-05-24 12:00:00,305 - distributed.shuffle._scheduler_plugin - WARNING - Shuffle 9620a5c4da3a046b5a76fd40f808c649 deactivated due to stimulus 'task-finished-1748080800.3048294'\n",
      "2025-05-24 12:00:01,284 - distributed.shuffle._scheduler_plugin - WARNING - Shuffle a4ab88645a76fa8fedfd2e9e3db9cc1c initialized by task ('shuffle-transfer-a4ab88645a76fa8fedfd2e9e3db9cc1c', 9) executed on worker tcp://127.0.0.1:33831\n",
      "2025-05-24 12:00:13,005 - distributed.shuffle._scheduler_plugin - WARNING - Shuffle a4ab88645a76fa8fedfd2e9e3db9cc1c deactivated due to stimulus 'task-finished-1748080813.0038574'\n",
      "2025-05-24 12:06:43,745 - distributed.nanny.memory - WARNING - Worker tcp://127.0.0.1:33831 (pid=315466) exceeded 95% memory budget. Restarting...\n",
      "2025-05-24 12:06:44,399 - distributed.nanny - WARNING - Restarting worker\n",
      "2025-05-24 12:06:46,346 - distributed.nanny.memory - WARNING - Worker tcp://127.0.0.1:33931 (pid=315474) exceeded 95% memory budget. Restarting...\n",
      "2025-05-24 12:06:46,934 - distributed.nanny - WARNING - Restarting worker\n",
      "2025-05-24 12:06:49,032 - distributed.shuffle._scheduler_plugin - WARNING - Shuffle ef3d708596520e78f6b52e13bfc8d2ff initialized by task ('shuffle-transfer-ef3d708596520e78f6b52e13bfc8d2ff', 18) executed on worker tcp://127.0.0.1:32807\n",
      "2025-05-24 12:06:49,745 - distributed.nanny.memory - WARNING - Worker tcp://127.0.0.1:35549 (pid=315471) exceeded 95% memory budget. Restarting...\n",
      "2025-05-24 12:06:50,021 - distributed.scheduler - WARNING - Removing worker 'tcp://127.0.0.1:35549' caused the cluster to lose already computed task(s), which will be recomputed elsewhere: {('read_parquet-fused-operation-eead5fc75605f725cee4311ff0a43dce', 12)} (stimulus_id='handle-worker-cleanup-1748081210.0217855')\n",
      "2025-05-24 12:06:50,023 - distributed.shuffle._scheduler_plugin - WARNING - Shuffle ef3d708596520e78f6b52e13bfc8d2ff deactivated due to stimulus 'handle-worker-cleanup-1748081210.0217855'\n",
      "2025-05-24 12:06:50,025 - distributed.shuffle._scheduler_plugin - WARNING - Shuffle ef3d708596520e78f6b52e13bfc8d2ff restarted due to stimulus 'handle-worker-cleanup-1748081210.0217855\n",
      "2025-05-24 12:06:50,041 - distributed.nanny - WARNING - Restarting worker\n",
      "2025-05-24 12:07:02,544 - distributed.nanny.memory - WARNING - Worker tcp://127.0.0.1:34301 (pid=315925) exceeded 95% memory budget. Restarting...\n",
      "2025-05-24 12:07:02,731 - distributed.nanny - WARNING - Restarting worker\n",
      "2025-05-24 12:07:04,021 - distributed.shuffle._scheduler_plugin - WARNING - Shuffle ef3d708596520e78f6b52e13bfc8d2ff initialized by task ('shuffle-transfer-ef3d708596520e78f6b52e13bfc8d2ff', 18) executed on worker tcp://127.0.0.1:34215\n",
      "2025-05-24 12:07:04,048 - distributed.nanny.memory - WARNING - Worker tcp://127.0.0.1:46127 (pid=315938) exceeded 95% memory budget. Restarting...\n",
      "2025-05-24 12:07:04,133 - distributed.shuffle._scheduler_plugin - WARNING - Shuffle ef3d708596520e78f6b52e13bfc8d2ff deactivated due to stimulus 'handle-worker-cleanup-1748081224.133014'\n",
      "2025-05-24 12:07:04,135 - distributed.shuffle._scheduler_plugin - WARNING - Shuffle ef3d708596520e78f6b52e13bfc8d2ff restarted due to stimulus 'handle-worker-cleanup-1748081224.133014\n",
      "2025-05-24 12:07:04,148 - distributed.nanny - WARNING - Restarting worker\n"
     ]
    }
   ],
   "source": [
    "cluster = LocalCluster(n_workers=2, threads_per_worker=1, memory_limit='16GB')\n",
    "client = Client(cluster)\n",
    "print(\"Dask client dashboard link:\", client.dashboard_link)"
   ]
  },
  {
   "cell_type": "code",
   "execution_count": 10,
   "id": "f65231d6",
   "metadata": {},
   "outputs": [],
   "source": [
    "def fetch_yellow_taxi_data(columns):\n",
    "    file_path = \"data/trip_record_data/yellow_taxi/*.parquet\"\n",
    "    columns = columns if \"tpep_pickup_datetime\" in columns else columns.append(\"tpep_pickup_datetime\")\n",
    "\n",
    "    ddf = dd.read_parquet(\n",
    "        file_path,\n",
    "        columns=columns,\n",
    "        engine='pyarrow'\n",
    "    )\n",
    "\n",
    "    ddf['Year'] = ddf[\"tpep_pickup_datetime\"].dt.year.astype('int32')\n",
    "    ddf = ddf[(ddf['Year'] >= 2012) & (ddf['Year'] <= 2024)]\n",
    "\n",
    "    return ddf\n",
    "\n",
    "def fetch_green_taxi_data(columns):\n",
    "    file_path = \"data/trip_record_data/green_taxi/*.parquet\"\n",
    "    columns = columns if \"lpep_pickup_datetime\" in columns else columns.append(\"lpep_pickup_datetime\")\n",
    "\n",
    "    ddf = dd.read_parquet(\n",
    "        file_path,\n",
    "        columns=columns,\n",
    "        engine='pyarrow'\n",
    "    )\n",
    "\n",
    "    ddf['Year'] = ddf[\"lpep_pickup_datetime\"].dt.year.astype('int32')\n",
    "    ddf = ddf[(ddf['Year'] >= 2012) & (ddf['Year'] <= 2024)]\n",
    "\n",
    "    return ddf\n",
    "\n",
    "def fetch_for_hire_data(columns):\n",
    "    file_path = \"data/trip_record_data/for_hire/*.parquet\"\n",
    "    columns = columns if \"pickup_datetime\" in columns else columns.append(\"pickup_datetime\")\n",
    "\n",
    "    ddf = dd.read_parquet(\n",
    "        file_path,\n",
    "        columns=columns,\n",
    "        engine='pyarrow'\n",
    "    )\n",
    "\n",
    "    ddf['Year'] = ddf[\"pickup_datetime\"].dt.year.astype('int32')\n",
    "    ddf = ddf[(ddf['Year'] >= 2012) & (ddf['Year'] <= 2024)]\n",
    "\n",
    "    return ddf\n",
    "\n",
    "def fetch_High_volume_data(columns):\n",
    "    file_path = \"data/trip_record_data/high_volume/*.parquet\"\n",
    "    columns = columns if \"pickup_datetime\" in columns else columns.append(\"pickup_datetime\")\n",
    "\n",
    "    ddf = dd.read_parquet(\n",
    "        file_path,\n",
    "        columns=columns,\n",
    "        engine='pyarrow'\n",
    "    )\n",
    "\n",
    "    ddf['Year'] = ddf[\"pickup_datetime\"].dt.year.astype('int32')\n",
    "    ddf = ddf[(ddf['Year'] >= 2012) & (ddf['Year'] <= 2024)]\n",
    "\n",
    "    return ddf\n",
    "\n",
    "def save_latex_and_svg(df, path):\n",
    "    os.makedirs(path, exist_ok = True)\n",
    "    figure_path = os.path.join(path, \"figure.svg\")\n",
    "    latex_path = os.path.join(path, \"table.tex\")\n",
    "\n",
    "    plt.figure(figsize=(5, 5))\n",
    "    plt.bar(df[\"Year\"], df[\"Normalized Problematic Rows Count\"])\n",
    "    plt.xticks(rotation=45, ha='right')\n",
    "    plt.grid(axis='y', linestyle='--', alpha=0.7) \n",
    "    plt.tight_layout()\n",
    "    plt.savefig(figure_path)\n",
    "\n",
    "    df.to_latex(latex_path, index = False)\n"
   ]
  },
  {
   "cell_type": "code",
   "execution_count": 4,
   "id": "68a171b2",
   "metadata": {},
   "outputs": [
    {
     "name": "stderr",
     "output_type": "stream",
     "text": [
      "2025-05-24 11:58:45,109 - distributed.worker.memory - WARNING - Unmanaged memory use is high. This may indicate a memory leak or the memory may not be released to the OS; see https://distributed.dask.org/en/latest/worker-memory.html#memory-not-released-back-to-the-os for more information. -- Unmanaged memory: 5.32 GiB -- Worker memory limit: 7.45 GiB\n",
      "2025-05-24 11:59:07,512 - distributed.worker.memory - WARNING - Unmanaged memory use is high. This may indicate a memory leak or the memory may not be released to the OS; see https://distributed.dask.org/en/latest/worker-memory.html#memory-not-released-back-to-the-os for more information. -- Unmanaged memory: 5.28 GiB -- Worker memory limit: 7.45 GiB\n",
      "2025-05-24 11:59:23,208 - distributed.worker.memory - WARNING - Unmanaged memory use is high. This may indicate a memory leak or the memory may not be released to the OS; see https://distributed.dask.org/en/latest/worker-memory.html#memory-not-released-back-to-the-os for more information. -- Unmanaged memory: 5.44 GiB -- Worker memory limit: 7.45 GiB\n",
      "2025-05-24 11:59:34,415 - distributed.worker.memory - WARNING - Worker is at 84% memory usage. Pausing worker.  Process memory: 6.32 GiB -- Worker memory limit: 7.45 GiB\n",
      "2025-05-24 11:59:34,507 - distributed.worker.memory - WARNING - Worker is at 3% memory usage. Resuming worker. Process memory: 289.04 MiB -- Worker memory limit: 7.45 GiB\n"
     ]
    },
    {
     "data": {
      "image/png": "[encoded data removed]",
      "text/plain": [
       "<Figure size 500x500 with 1 Axes>"
      ]
     },
     "metadata": {},
     "output_type": "display_data"
    }
   ],
   "source": [
    "ddf = fetch_yellow_taxi_data(['tpep_pickup_datetime', 'tpep_dropoff_datetime', 'trip_distance', 'passenger_count', 'fare_amount'])\n",
    "\n",
    "case1 = ddf['tpep_pickup_datetime'] == ddf['tpep_dropoff_datetime']\n",
    "case2 = ddf['tpep_pickup_datetime'] > ddf['tpep_dropoff_datetime']\n",
    "case3 = ddf[\"trip_distance\"] <= 0\n",
    "case4 = ddf[\"trip_distance\"] > 100\n",
    "case5 = ddf[\"passenger_count\"] == 0\n",
    "case6 = ddf[\"fare_amount\"] <= 0\n",
    "case7 = ddf[\"fare_amount\"] > 350\n",
    "\n",
    "problematic_rows = ddf[case1 | case2 | case3 | case4 | case5 | case6 | case7]\n",
    "yearly_problems_counts = problematic_rows.groupby('Year').size().to_frame(name='Problematic Row Count')\n",
    "result_table = yearly_problems_counts.compute().reset_index().sort_values(by = [\"Year\"])\n",
    "\n",
    "total_rows_per_year = ddf.groupby('Year').size().to_frame(name='Total Row Count').compute().reset_index()\n",
    "\n",
    "normalized_results = pd.merge(result_table, total_rows_per_year, on='Year', how='left')\n",
    "normalized_results['Normalized Problematic Rows Count'] = normalized_results['Problematic Row Count'] / normalized_results['Total Row Count']\n",
    "\n",
    "save_latex_and_svg(normalized_results, \"data/T2/yellow_taxi/\")"
   ]
  },
  {
   "cell_type": "code",
   "execution_count": 5,
   "id": "72c5fd8c",
   "metadata": {},
   "outputs": [
    {
     "data": {
      "image/png": "[encoded data removed]",
      "text/plain": [
       "<Figure size 500x500 with 1 Axes>"
      ]
     },
     "metadata": {},
     "output_type": "display_data"
    }
   ],
   "source": [
    "ddf = fetch_green_taxi_data(['lpep_pickup_datetime', 'lpep_dropoff_datetime', 'trip_distance', 'passenger_count', 'fare_amount'])\n",
    "\n",
    "case1 = ddf['lpep_pickup_datetime'] == ddf['lpep_dropoff_datetime']\n",
    "case2 = ddf['lpep_pickup_datetime'] > ddf['lpep_dropoff_datetime']\n",
    "case3 = ddf[\"trip_distance\"] <= 0\n",
    "case4 = ddf[\"trip_distance\"] > 100\n",
    "case5 = ddf[\"passenger_count\"] == 0\n",
    "case6 = ddf[\"fare_amount\"] <= 0\n",
    "case7 = ddf[\"fare_amount\"] > 350\n",
    "\n",
    "problematic_rows = ddf[case1 | case2 | case3 | case4 | case5 | case6 | case7]\n",
    "yearly_problems_counts = problematic_rows.groupby('Year').size().to_frame(name='Problematic Row Count')\n",
    "result_table = yearly_problems_counts.compute().reset_index().sort_values(by = [\"Year\"])\n",
    "\n",
    "total_rows_per_year = ddf.groupby('Year').size().to_frame(name='Total Row Count').compute().reset_index()\n",
    "\n",
    "normalized_results = pd.merge(result_table, total_rows_per_year, on='Year', how='left')\n",
    "normalized_results['Normalized Problematic Rows Count'] = normalized_results['Problematic Row Count'] / normalized_results['Total Row Count']\n",
    "\n",
    "save_latex_and_svg(normalized_results, \"data/T2/green_taxi/\")"
   ]
  },
  {
   "cell_type": "code",
   "execution_count": 6,
   "id": "0585b375",
   "metadata": {},
   "outputs": [
    {
     "data": {
      "image/png": "[encoded data removed]",
      "text/plain": [
       "<Figure size 500x500 with 1 Axes>"
      ]
     },
     "metadata": {},
     "output_type": "display_data"
    }
   ],
   "source": [
    "ddf = fetch_for_hire_data(['pickup_datetime', 'dropOff_datetime'])\n",
    "\n",
    "case1 = ddf['pickup_datetime'] == ddf['dropOff_datetime']\n",
    "case2 = ddf['pickup_datetime'] > ddf['dropOff_datetime']\n",
    "\n",
    "problematic_rows = ddf[case1 | case2 ]\n",
    "yearly_problems_counts = problematic_rows.groupby('Year').size().to_frame(name='Problematic Row Count')\n",
    "result_table = yearly_problems_counts.compute().reset_index().sort_values(by = [\"Year\"])\n",
    "\n",
    "total_rows_per_year = ddf.groupby('Year').size().to_frame(name='Total Row Count').compute().reset_index()\n",
    "\n",
    "normalized_results = pd.merge(result_table, total_rows_per_year, on='Year', how='left')\n",
    "normalized_results['Normalized Problematic Rows Count'] = normalized_results['Problematic Row Count'] / normalized_results['Total Row Count']\n",
    "\n",
    "save_latex_and_svg(normalized_results, \"data/T2/for_hire/\")"
   ]
  },
  {
   "cell_type": "code",
   "execution_count": null,
   "id": "d81cd6e0",
   "metadata": {},
   "outputs": [
    {
     "name": "stderr",
     "output_type": "stream",
     "text": [
      "2025-05-24 12:06:30,508 - distributed.worker.memory - WARNING - Unmanaged memory use is high. This may indicate a memory leak or the memory may not be released to the OS; see https://distributed.dask.org/en/latest/worker-memory.html#memory-not-released-back-to-the-os for more information. -- Unmanaged memory: 5.22 GiB -- Worker memory limit: 7.45 GiB\n",
      "2025-05-24 12:06:33,708 - distributed.worker.memory - WARNING - Unmanaged memory use is high. This may indicate a memory leak or the memory may not be released to the OS; see https://distributed.dask.org/en/latest/worker-memory.html#memory-not-released-back-to-the-os for more information. -- Unmanaged memory: 5.22 GiB -- Worker memory limit: 7.45 GiB\n",
      "2025-05-24 12:06:40,704 - distributed.worker.memory - WARNING - Worker is at 80% memory usage. Pausing worker.  Process memory: 6.00 GiB -- Worker memory limit: 7.45 GiB\n",
      "2025-05-24 12:06:44,428 - distributed.worker.memory - WARNING - Worker is at 80% memory usage. Pausing worker.  Process memory: 5.98 GiB -- Worker memory limit: 7.45 GiB\n",
      "2025-05-24 12:06:46,339 - distributed.worker.memory - WARNING - Unmanaged memory use is high. This may indicate a memory leak or the memory may not be released to the OS; see https://distributed.dask.org/en/latest/worker-memory.html#memory-not-released-back-to-the-os for more information. -- Unmanaged memory: 5.35 GiB -- Worker memory limit: 7.45 GiB\n",
      "2025-05-24 12:06:46,794 - distributed.worker.memory - WARNING - Worker is at 86% memory usage. Pausing worker.  Process memory: 6.43 GiB -- Worker memory limit: 7.45 GiB\n",
      "2025-05-24 12:06:47,148 - distributed.worker.memory - WARNING - Worker is at 49% memory usage. Resuming worker. Process memory: 3.66 GiB -- Worker memory limit: 7.45 GiB\n",
      "2025-05-24 12:06:49,309 - distributed.worker.memory - WARNING - Unmanaged memory use is high. This may indicate a memory leak or the memory may not be released to the OS; see https://distributed.dask.org/en/latest/worker-memory.html#memory-not-released-back-to-the-os for more information. -- Unmanaged memory: 5.77 GiB -- Worker memory limit: 7.45 GiB\n",
      "2025-05-24 12:06:49,560 - distributed.worker.memory - WARNING - Worker is at 81% memory usage. Pausing worker.  Process memory: 6.04 GiB -- Worker memory limit: 7.45 GiB\n",
      "2025-05-24 12:06:59,819 - distributed.worker.memory - WARNING - Unmanaged memory use is high. This may indicate a memory leak or the memory may not be released to the OS; see https://distributed.dask.org/en/latest/worker-memory.html#memory-not-released-back-to-the-os for more information. -- Unmanaged memory: 5.23 GiB -- Worker memory limit: 7.45 GiB\n",
      "2025-05-24 12:07:00,790 - distributed.worker.memory - WARNING - Worker is at 83% memory usage. Pausing worker.  Process memory: 6.23 GiB -- Worker memory limit: 7.45 GiB\n",
      "2025-05-24 12:07:03,813 - distributed.worker.memory - WARNING - Unmanaged memory use is high. This may indicate a memory leak or the memory may not be released to the OS; see https://distributed.dask.org/en/latest/worker-memory.html#memory-not-released-back-to-the-os for more information. -- Unmanaged memory: 5.70 GiB -- Worker memory limit: 7.45 GiB\n",
      "2025-05-24 12:07:03,980 - distributed.worker.memory - WARNING - Worker is at 85% memory usage. Pausing worker.  Process memory: 6.37 GiB -- Worker memory limit: 7.45 GiB\n"
     ]
    }
   ],
   "source": [
    "ddf = fetch_High_volume_data(['pickup_datetime', 'dropoff_datetime', 'trip_miles', 'base_passenger_fare', 'trip_time'])\n",
    "\n",
    "case1 = ddf['pickup_datetime'] == ddf['dropoff_datetime']\n",
    "case2 = ddf['pickup_datetime'] > ddf['dropoff_datetime']\n",
    "case3 = ddf[\"trip_miles\"] <= 0\n",
    "case4 = ddf[\"trip_miles\"] > 100\n",
    "case5 = ddf[\"trip_time\"] <= 0\n",
    "case6 = ddf[\"base_passenger_fare\"] <= 0\n",
    "case7 = ddf[\"base_passenger_fare\"] > 350\n",
    "\n",
    "problematic_rows = ddf[case1 | case2 | case3 | case4 | case5 | case6 | case7]\n",
    "yearly_problems_counts = problematic_rows.groupby('Year').size().to_frame(name='Problematic Row Count')\n",
    "result_table = yearly_problems_counts.compute().reset_index().sort_values(by = [\"Year\"])\n",
    "\n",
    "total_rows_per_year = ddf.groupby('Year').size().to_frame(name='Total Row Count').compute().reset_index()\n",
    "\n",
    "normalized_results = pd.merge(result_table, total_rows_per_year, on='Year', how='left')\n",
    "normalized_results['Normalized Problematic Rows Count'] = normalized_results['Problematic Row Count'] / normalized_results['Total Row Count']\n",
    "\n",
    "save_latex_and_svg(normalized_results, \"data/T2/green_taxi/\")"
   ]
  },
  {
   "cell_type": "code",
   "execution_count": 7,
   "id": "861ba354",
   "metadata": {},
   "outputs": [],
   "source": [
    "import duckdb"
   ]
  },
  {
   "cell_type": "code",
   "execution_count": 8,
   "id": "8b41e950",
   "metadata": {},
   "outputs": [
    {
     "data": {
      "text/plain": [
       "['hvfhs_license_num',\n",
       " 'dispatching_base_num',\n",
       " 'originating_base_num',\n",
       " 'request_datetime',\n",
       " 'on_scene_datetime',\n",
       " 'pickup_datetime',\n",
       " 'dropoff_datetime',\n",
       " 'PULocationID',\n",
       " 'DOLocationID',\n",
       " 'trip_miles',\n",
       " 'trip_time',\n",
       " 'base_passenger_fare',\n",
       " 'tolls',\n",
       " 'bcf',\n",
       " 'sales_tax',\n",
       " 'congestion_surcharge',\n",
       " 'airport_fee',\n",
       " 'tips',\n",
       " 'driver_pay',\n",
       " 'shared_request_flag',\n",
       " 'shared_match_flag',\n",
       " 'access_a_ride_flag',\n",
       " 'wav_request_flag',\n",
       " 'wav_match_flag']"
      ]
     },
     "execution_count": 8,
     "metadata": {},
     "output_type": "execute_result"
    }
   ],
   "source": [
    "duckdb.sql(\"select * from 'data/trip_record_data/high_volume/*.parquet'\").columns"
   ]
  },
  {
   "cell_type": "code",
   "execution_count": 9,
   "id": "a791e7cb",
   "metadata": {},
   "outputs": [
    {
     "data": {
      "text/plain": [
       "┌─────────────────────┬──────────────┬──────────────┐\n",
       "│   pickup_datetime   │ PULocationID │ DOLocationID │\n",
       "│      timestamp      │    int64     │    int64     │\n",
       "├─────────────────────┼──────────────┼──────────────┤\n",
       "│ 2020-12-31 23:59:59 │          212 │           18 │\n",
       "│ 2020-12-31 23:59:59 │          152 │           75 │\n",
       "│ 2020-12-31 23:59:58 │          197 │           28 │\n",
       "│ 2020-12-31 23:59:58 │          228 │          255 │\n",
       "│ 2020-12-31 23:59:57 │          132 │          130 │\n",
       "│ 2020-12-31 23:59:57 │          106 │          129 │\n",
       "│ 2020-12-31 23:59:57 │           75 │          141 │\n",
       "│ 2020-12-31 23:59:56 │          166 │          259 │\n",
       "│ 2020-12-31 23:59:56 │           65 │          130 │\n",
       "│ 2020-12-31 23:59:55 │           71 │          149 │\n",
       "│          ·          │            · │            · │\n",
       "│          ·          │            · │            · │\n",
       "│          ·          │            · │            · │\n",
       "│ 2020-12-31 23:28:30 │          183 │           58 │\n",
       "│ 2020-12-31 23:28:30 │          116 │           47 │\n",
       "│ 2020-12-31 23:28:30 │           35 │           68 │\n",
       "│ 2020-12-31 23:28:30 │           83 │           83 │\n",
       "│ 2020-12-31 23:28:30 │          147 │          167 │\n",
       "│ 2020-12-31 23:28:30 │          245 │          118 │\n",
       "│ 2020-12-31 23:28:30 │           75 │           24 │\n",
       "│ 2020-12-31 23:28:29 │           77 │          265 │\n",
       "│ 2020-12-31 23:28:29 │          254 │          119 │\n",
       "│ 2020-12-31 23:28:29 │          163 │          263 │\n",
       "├─────────────────────┴──────────────┴──────────────┤\n",
       "│ ? rows (>9999 rows, 20 shown)           3 columns │\n",
       "└───────────────────────────────────────────────────┘"
      ]
     },
     "execution_count": 9,
     "metadata": {},
     "output_type": "execute_result"
    }
   ],
   "source": [
    "duckdb.sql(\"select pickup_datetime, PULocationID, DOLocationID from 'data/trip_record_data/high_volume/*.parquet' where year(pickup_datetime) = 2020 order by pickup_datetime desc\")"
   ]
  }
 ],
 "metadata": {
  "kernelspec": {
   "display_name": "Python 3",
   "language": "python",
   "name": "python3"
  },
  "language_info": {
   "codemirror_mode": {
    "name": "ipython",
    "version": 3
   },
   "file_extension": ".py",
   "mimetype": "text/x-python",
   "name": "python",
   "nbconvert_exporter": "python",
   "pygments_lexer": "ipython3",
   "version": "3.13.3"
  }
 },
 "nbformat": 4,
 "nbformat_minor": 5
}
